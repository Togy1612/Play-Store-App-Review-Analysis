{
  "nbformat": 4,
  "nbformat_minor": 0,
  "metadata": {
    "colab": {
      "name": "EDA of Play Store Data",
      "provenance": [],
      "include_colab_link": true
    },
    "kernelspec": {
      "display_name": "Python 3",
      "language": "python",
      "name": "python3"
    },
    "language_info": {
      "codemirror_mode": {
        "name": "ipython",
        "version": 3
      },
      "file_extension": ".py",
      "mimetype": "text/x-python",
      "name": "python",
      "nbconvert_exporter": "python",
      "pygments_lexer": "ipython3",
      "version": "3.6.6"
    }
  },
  "cells": [
    {
      "cell_type": "markdown",
      "metadata": {
        "id": "view-in-github",
        "colab_type": "text"
      },
      "source": [
        "<a href=\"https://colab.research.google.com/github/Togy1612/Play-Store-App-Review-Analysis/blob/main/EDA_of_Play_Store_Data.ipynb\" target=\"_parent\"><img src=\"https://colab.research.google.com/assets/colab-badge.svg\" alt=\"Open In Colab\"/></a>"
      ]
    },
    {
      "cell_type": "markdown",
      "metadata": {
        "id": "Y06xIdG26kRF"
      },
      "source": [
        "## <b> The Play Store apps data has enormous potential to drive app-making businesses to success. Actionable insights can be drawn for developers to work on and capture the Android market. </b>\n",
        "\n",
        "## <b> Each app (row) has values for catergory, rating, size, and more. Another dataset contains customer reviews of the android apps.</b>\n",
        "\n",
        "## <b> Explore and analyze the data to discover key factors responsible for app engagement and success. </b>"
      ]
    },
    {
      "cell_type": "code",
      "metadata": {
        "id": "dByMsuzT8Tnw"
      },
      "source": [
        "import pandas as pd\n",
        "import numpy as np\n",
        "import matplotlib.pyplot as plt"
      ],
      "execution_count": null,
      "outputs": []
    },
    {
      "cell_type": "code",
      "metadata": {
        "colab": {
          "base_uri": "https://localhost:8080/"
        },
        "id": "SvG-0C_aggZF",
        "outputId": "c28357a5-fc07-45d0-fd1e-731106a25508"
      },
      "source": [
        "from google.colab import drive\n",
        "drive.mount('/content/drive')"
      ],
      "execution_count": null,
      "outputs": [
        {
          "output_type": "stream",
          "name": "stdout",
          "text": [
            "Drive already mounted at /content/drive; to attempt to forcibly remount, call drive.mount(\"/content/drive\", force_remount=True).\n"
          ]
        }
      ]
    },
    {
      "cell_type": "code",
      "metadata": {
        "id": "zxebQh4Vghpu"
      },
      "source": [
        "psd = pd.read_csv(\"/content/drive/MyDrive/Capstone-EDA/Play Store Data.csv\")"
      ],
      "execution_count": null,
      "outputs": []
    },
    {
      "cell_type": "code",
      "metadata": {
        "colab": {
          "base_uri": "https://localhost:8080/"
        },
        "id": "SJt0aUFNg70F",
        "outputId": "f38ac27a-78eb-4108-d8d1-62349dfbff41"
      },
      "source": [
        "psd.info()"
      ],
      "execution_count": null,
      "outputs": [
        {
          "output_type": "stream",
          "name": "stdout",
          "text": [
            "<class 'pandas.core.frame.DataFrame'>\n",
            "RangeIndex: 10841 entries, 0 to 10840\n",
            "Data columns (total 13 columns):\n",
            " #   Column          Non-Null Count  Dtype  \n",
            "---  ------          --------------  -----  \n",
            " 0   App             10841 non-null  object \n",
            " 1   Category        10841 non-null  object \n",
            " 2   Rating          9367 non-null   float64\n",
            " 3   Reviews         10841 non-null  object \n",
            " 4   Size            10841 non-null  object \n",
            " 5   Installs        10841 non-null  object \n",
            " 6   Type            10840 non-null  object \n",
            " 7   Price           10841 non-null  object \n",
            " 8   Content Rating  10840 non-null  object \n",
            " 9   Genres          10841 non-null  object \n",
            " 10  Last Updated    10841 non-null  object \n",
            " 11  Current Ver     10833 non-null  object \n",
            " 12  Android Ver     10838 non-null  object \n",
            "dtypes: float64(1), object(12)\n",
            "memory usage: 1.1+ MB\n"
          ]
        }
      ]
    },
    {
      "cell_type": "code",
      "metadata": {
        "colab": {
          "base_uri": "https://localhost:8080/"
        },
        "id": "lo1BCtt9hhy1",
        "outputId": "31247d32-4e61-44cc-c614-3b6bf5f87e24"
      },
      "source": [
        "psd.shape"
      ],
      "execution_count": null,
      "outputs": [
        {
          "output_type": "execute_result",
          "data": {
            "text/plain": [
              "(10841, 13)"
            ]
          },
          "metadata": {},
          "execution_count": 78
        }
      ]
    },
    {
      "cell_type": "code",
      "metadata": {
        "colab": {
          "base_uri": "https://localhost:8080/"
        },
        "id": "RVKAV0nphNZb",
        "outputId": "fe88906d-37da-4f94-b77f-f4bdaeee095d"
      },
      "source": [
        "psd.isnull().sum()"
      ],
      "execution_count": null,
      "outputs": [
        {
          "output_type": "execute_result",
          "data": {
            "text/plain": [
              "App                  0\n",
              "Category             0\n",
              "Rating            1474\n",
              "Reviews              0\n",
              "Size                 0\n",
              "Installs             0\n",
              "Type                 1\n",
              "Price                0\n",
              "Content Rating       1\n",
              "Genres               0\n",
              "Last Updated         0\n",
              "Current Ver          8\n",
              "Android Ver          3\n",
              "dtype: int64"
            ]
          },
          "metadata": {},
          "execution_count": 79
        }
      ]
    },
    {
      "cell_type": "code",
      "metadata": {
        "id": "ic3cgYPphUUg"
      },
      "source": [
        "psd.dropna(inplace=True)"
      ],
      "execution_count": null,
      "outputs": []
    },
    {
      "cell_type": "code",
      "metadata": {
        "colab": {
          "base_uri": "https://localhost:8080/"
        },
        "id": "ZNNvhukdhwqn",
        "outputId": "628a3925-b476-4cae-cc38-6216bf20d45b"
      },
      "source": [
        "psd.info()\n",
        "psd.shape"
      ],
      "execution_count": null,
      "outputs": [
        {
          "output_type": "stream",
          "name": "stdout",
          "text": [
            "<class 'pandas.core.frame.DataFrame'>\n",
            "Int64Index: 9360 entries, 0 to 10840\n",
            "Data columns (total 13 columns):\n",
            " #   Column          Non-Null Count  Dtype  \n",
            "---  ------          --------------  -----  \n",
            " 0   App             9360 non-null   object \n",
            " 1   Category        9360 non-null   object \n",
            " 2   Rating          9360 non-null   float64\n",
            " 3   Reviews         9360 non-null   object \n",
            " 4   Size            9360 non-null   object \n",
            " 5   Installs        9360 non-null   object \n",
            " 6   Type            9360 non-null   object \n",
            " 7   Price           9360 non-null   object \n",
            " 8   Content Rating  9360 non-null   object \n",
            " 9   Genres          9360 non-null   object \n",
            " 10  Last Updated    9360 non-null   object \n",
            " 11  Current Ver     9360 non-null   object \n",
            " 12  Android Ver     9360 non-null   object \n",
            "dtypes: float64(1), object(12)\n",
            "memory usage: 1023.8+ KB\n"
          ]
        },
        {
          "output_type": "execute_result",
          "data": {
            "text/plain": [
              "(9360, 13)"
            ]
          },
          "metadata": {},
          "execution_count": 81
        }
      ]
    },
    {
      "cell_type": "code",
      "metadata": {
        "id": "ax0NcEpZh26o"
      },
      "source": [
        "psd.drop_duplicates(inplace=True)"
      ],
      "execution_count": null,
      "outputs": []
    },
    {
      "cell_type": "code",
      "metadata": {
        "colab": {
          "base_uri": "https://localhost:8080/"
        },
        "id": "seSm0amOiEXE",
        "outputId": "abb4c287-3d3c-49c0-d9c7-5f2483897110"
      },
      "source": [
        "psd.info()\n",
        "psd.shape"
      ],
      "execution_count": null,
      "outputs": [
        {
          "output_type": "stream",
          "name": "stdout",
          "text": [
            "<class 'pandas.core.frame.DataFrame'>\n",
            "Int64Index: 8886 entries, 0 to 10840\n",
            "Data columns (total 13 columns):\n",
            " #   Column          Non-Null Count  Dtype  \n",
            "---  ------          --------------  -----  \n",
            " 0   App             8886 non-null   object \n",
            " 1   Category        8886 non-null   object \n",
            " 2   Rating          8886 non-null   float64\n",
            " 3   Reviews         8886 non-null   object \n",
            " 4   Size            8886 non-null   object \n",
            " 5   Installs        8886 non-null   object \n",
            " 6   Type            8886 non-null   object \n",
            " 7   Price           8886 non-null   object \n",
            " 8   Content Rating  8886 non-null   object \n",
            " 9   Genres          8886 non-null   object \n",
            " 10  Last Updated    8886 non-null   object \n",
            " 11  Current Ver     8886 non-null   object \n",
            " 12  Android Ver     8886 non-null   object \n",
            "dtypes: float64(1), object(12)\n",
            "memory usage: 971.9+ KB\n"
          ]
        },
        {
          "output_type": "execute_result",
          "data": {
            "text/plain": [
              "(8886, 13)"
            ]
          },
          "metadata": {},
          "execution_count": 83
        }
      ]
    },
    {
      "cell_type": "code",
      "metadata": {
        "colab": {
          "base_uri": "https://localhost:8080/",
          "height": 362
        },
        "id": "tkyWBj3MiGT9",
        "outputId": "cacf20ad-c140-414b-a93a-c87753bcd738"
      },
      "source": [
        "psd.head()"
      ],
      "execution_count": null,
      "outputs": [
        {
          "output_type": "execute_result",
          "data": {
            "text/html": [
              "<div>\n",
              "<style scoped>\n",
              "    .dataframe tbody tr th:only-of-type {\n",
              "        vertical-align: middle;\n",
              "    }\n",
              "\n",
              "    .dataframe tbody tr th {\n",
              "        vertical-align: top;\n",
              "    }\n",
              "\n",
              "    .dataframe thead th {\n",
              "        text-align: right;\n",
              "    }\n",
              "</style>\n",
              "<table border=\"1\" class=\"dataframe\">\n",
              "  <thead>\n",
              "    <tr style=\"text-align: right;\">\n",
              "      <th></th>\n",
              "      <th>App</th>\n",
              "      <th>Category</th>\n",
              "      <th>Rating</th>\n",
              "      <th>Reviews</th>\n",
              "      <th>Size</th>\n",
              "      <th>Installs</th>\n",
              "      <th>Type</th>\n",
              "      <th>Price</th>\n",
              "      <th>Content Rating</th>\n",
              "      <th>Genres</th>\n",
              "      <th>Last Updated</th>\n",
              "      <th>Current Ver</th>\n",
              "      <th>Android Ver</th>\n",
              "    </tr>\n",
              "  </thead>\n",
              "  <tbody>\n",
              "    <tr>\n",
              "      <th>0</th>\n",
              "      <td>Photo Editor &amp; Candy Camera &amp; Grid &amp; ScrapBook</td>\n",
              "      <td>ART_AND_DESIGN</td>\n",
              "      <td>4.1</td>\n",
              "      <td>159</td>\n",
              "      <td>19M</td>\n",
              "      <td>10,000+</td>\n",
              "      <td>Free</td>\n",
              "      <td>0</td>\n",
              "      <td>Everyone</td>\n",
              "      <td>Art &amp; Design</td>\n",
              "      <td>January 7, 2018</td>\n",
              "      <td>1.0.0</td>\n",
              "      <td>4.0.3 and up</td>\n",
              "    </tr>\n",
              "    <tr>\n",
              "      <th>1</th>\n",
              "      <td>Coloring book moana</td>\n",
              "      <td>ART_AND_DESIGN</td>\n",
              "      <td>3.9</td>\n",
              "      <td>967</td>\n",
              "      <td>14M</td>\n",
              "      <td>500,000+</td>\n",
              "      <td>Free</td>\n",
              "      <td>0</td>\n",
              "      <td>Everyone</td>\n",
              "      <td>Art &amp; Design;Pretend Play</td>\n",
              "      <td>January 15, 2018</td>\n",
              "      <td>2.0.0</td>\n",
              "      <td>4.0.3 and up</td>\n",
              "    </tr>\n",
              "    <tr>\n",
              "      <th>2</th>\n",
              "      <td>U Launcher Lite – FREE Live Cool Themes, Hide ...</td>\n",
              "      <td>ART_AND_DESIGN</td>\n",
              "      <td>4.7</td>\n",
              "      <td>87510</td>\n",
              "      <td>8.7M</td>\n",
              "      <td>5,000,000+</td>\n",
              "      <td>Free</td>\n",
              "      <td>0</td>\n",
              "      <td>Everyone</td>\n",
              "      <td>Art &amp; Design</td>\n",
              "      <td>August 1, 2018</td>\n",
              "      <td>1.2.4</td>\n",
              "      <td>4.0.3 and up</td>\n",
              "    </tr>\n",
              "    <tr>\n",
              "      <th>3</th>\n",
              "      <td>Sketch - Draw &amp; Paint</td>\n",
              "      <td>ART_AND_DESIGN</td>\n",
              "      <td>4.5</td>\n",
              "      <td>215644</td>\n",
              "      <td>25M</td>\n",
              "      <td>50,000,000+</td>\n",
              "      <td>Free</td>\n",
              "      <td>0</td>\n",
              "      <td>Teen</td>\n",
              "      <td>Art &amp; Design</td>\n",
              "      <td>June 8, 2018</td>\n",
              "      <td>Varies with device</td>\n",
              "      <td>4.2 and up</td>\n",
              "    </tr>\n",
              "    <tr>\n",
              "      <th>4</th>\n",
              "      <td>Pixel Draw - Number Art Coloring Book</td>\n",
              "      <td>ART_AND_DESIGN</td>\n",
              "      <td>4.3</td>\n",
              "      <td>967</td>\n",
              "      <td>2.8M</td>\n",
              "      <td>100,000+</td>\n",
              "      <td>Free</td>\n",
              "      <td>0</td>\n",
              "      <td>Everyone</td>\n",
              "      <td>Art &amp; Design;Creativity</td>\n",
              "      <td>June 20, 2018</td>\n",
              "      <td>1.1</td>\n",
              "      <td>4.4 and up</td>\n",
              "    </tr>\n",
              "  </tbody>\n",
              "</table>\n",
              "</div>"
            ],
            "text/plain": [
              "                                                 App  ...   Android Ver\n",
              "0     Photo Editor & Candy Camera & Grid & ScrapBook  ...  4.0.3 and up\n",
              "1                                Coloring book moana  ...  4.0.3 and up\n",
              "2  U Launcher Lite – FREE Live Cool Themes, Hide ...  ...  4.0.3 and up\n",
              "3                              Sketch - Draw & Paint  ...    4.2 and up\n",
              "4              Pixel Draw - Number Art Coloring Book  ...    4.4 and up\n",
              "\n",
              "[5 rows x 13 columns]"
            ]
          },
          "metadata": {},
          "execution_count": 84
        }
      ]
    },
    {
      "cell_type": "code",
      "metadata": {
        "colab": {
          "base_uri": "https://localhost:8080/",
          "height": 362
        },
        "id": "HPBXv40oiSHQ",
        "outputId": "9e69dee4-2365-4de9-db7e-c2c944fee13d"
      },
      "source": [
        "psd.tail()"
      ],
      "execution_count": null,
      "outputs": [
        {
          "output_type": "execute_result",
          "data": {
            "text/html": [
              "<div>\n",
              "<style scoped>\n",
              "    .dataframe tbody tr th:only-of-type {\n",
              "        vertical-align: middle;\n",
              "    }\n",
              "\n",
              "    .dataframe tbody tr th {\n",
              "        vertical-align: top;\n",
              "    }\n",
              "\n",
              "    .dataframe thead th {\n",
              "        text-align: right;\n",
              "    }\n",
              "</style>\n",
              "<table border=\"1\" class=\"dataframe\">\n",
              "  <thead>\n",
              "    <tr style=\"text-align: right;\">\n",
              "      <th></th>\n",
              "      <th>App</th>\n",
              "      <th>Category</th>\n",
              "      <th>Rating</th>\n",
              "      <th>Reviews</th>\n",
              "      <th>Size</th>\n",
              "      <th>Installs</th>\n",
              "      <th>Type</th>\n",
              "      <th>Price</th>\n",
              "      <th>Content Rating</th>\n",
              "      <th>Genres</th>\n",
              "      <th>Last Updated</th>\n",
              "      <th>Current Ver</th>\n",
              "      <th>Android Ver</th>\n",
              "    </tr>\n",
              "  </thead>\n",
              "  <tbody>\n",
              "    <tr>\n",
              "      <th>10834</th>\n",
              "      <td>FR Calculator</td>\n",
              "      <td>FAMILY</td>\n",
              "      <td>4.0</td>\n",
              "      <td>7</td>\n",
              "      <td>2.6M</td>\n",
              "      <td>500+</td>\n",
              "      <td>Free</td>\n",
              "      <td>0</td>\n",
              "      <td>Everyone</td>\n",
              "      <td>Education</td>\n",
              "      <td>June 18, 2017</td>\n",
              "      <td>1.0.0</td>\n",
              "      <td>4.1 and up</td>\n",
              "    </tr>\n",
              "    <tr>\n",
              "      <th>10836</th>\n",
              "      <td>Sya9a Maroc - FR</td>\n",
              "      <td>FAMILY</td>\n",
              "      <td>4.5</td>\n",
              "      <td>38</td>\n",
              "      <td>53M</td>\n",
              "      <td>5,000+</td>\n",
              "      <td>Free</td>\n",
              "      <td>0</td>\n",
              "      <td>Everyone</td>\n",
              "      <td>Education</td>\n",
              "      <td>July 25, 2017</td>\n",
              "      <td>1.48</td>\n",
              "      <td>4.1 and up</td>\n",
              "    </tr>\n",
              "    <tr>\n",
              "      <th>10837</th>\n",
              "      <td>Fr. Mike Schmitz Audio Teachings</td>\n",
              "      <td>FAMILY</td>\n",
              "      <td>5.0</td>\n",
              "      <td>4</td>\n",
              "      <td>3.6M</td>\n",
              "      <td>100+</td>\n",
              "      <td>Free</td>\n",
              "      <td>0</td>\n",
              "      <td>Everyone</td>\n",
              "      <td>Education</td>\n",
              "      <td>July 6, 2018</td>\n",
              "      <td>1.0</td>\n",
              "      <td>4.1 and up</td>\n",
              "    </tr>\n",
              "    <tr>\n",
              "      <th>10839</th>\n",
              "      <td>The SCP Foundation DB fr nn5n</td>\n",
              "      <td>BOOKS_AND_REFERENCE</td>\n",
              "      <td>4.5</td>\n",
              "      <td>114</td>\n",
              "      <td>Varies with device</td>\n",
              "      <td>1,000+</td>\n",
              "      <td>Free</td>\n",
              "      <td>0</td>\n",
              "      <td>Mature 17+</td>\n",
              "      <td>Books &amp; Reference</td>\n",
              "      <td>January 19, 2015</td>\n",
              "      <td>Varies with device</td>\n",
              "      <td>Varies with device</td>\n",
              "    </tr>\n",
              "    <tr>\n",
              "      <th>10840</th>\n",
              "      <td>iHoroscope - 2018 Daily Horoscope &amp; Astrology</td>\n",
              "      <td>LIFESTYLE</td>\n",
              "      <td>4.5</td>\n",
              "      <td>398307</td>\n",
              "      <td>19M</td>\n",
              "      <td>10,000,000+</td>\n",
              "      <td>Free</td>\n",
              "      <td>0</td>\n",
              "      <td>Everyone</td>\n",
              "      <td>Lifestyle</td>\n",
              "      <td>July 25, 2018</td>\n",
              "      <td>Varies with device</td>\n",
              "      <td>Varies with device</td>\n",
              "    </tr>\n",
              "  </tbody>\n",
              "</table>\n",
              "</div>"
            ],
            "text/plain": [
              "                                                 App  ...         Android Ver\n",
              "10834                                  FR Calculator  ...          4.1 and up\n",
              "10836                               Sya9a Maroc - FR  ...          4.1 and up\n",
              "10837               Fr. Mike Schmitz Audio Teachings  ...          4.1 and up\n",
              "10839                  The SCP Foundation DB fr nn5n  ...  Varies with device\n",
              "10840  iHoroscope - 2018 Daily Horoscope & Astrology  ...  Varies with device\n",
              "\n",
              "[5 rows x 13 columns]"
            ]
          },
          "metadata": {},
          "execution_count": 85
        }
      ]
    },
    {
      "cell_type": "code",
      "metadata": {
        "colab": {
          "base_uri": "https://localhost:8080/"
        },
        "id": "hSdKgmJTiYrd",
        "outputId": "b00326d0-3130-4196-cff9-3e35eb02dff7"
      },
      "source": [
        "psd['Category'].unique()"
      ],
      "execution_count": null,
      "outputs": [
        {
          "output_type": "execute_result",
          "data": {
            "text/plain": [
              "array(['ART_AND_DESIGN', 'AUTO_AND_VEHICLES', 'BEAUTY',\n",
              "       'BOOKS_AND_REFERENCE', 'BUSINESS', 'COMICS', 'COMMUNICATION',\n",
              "       'DATING', 'EDUCATION', 'ENTERTAINMENT', 'EVENTS', 'FINANCE',\n",
              "       'FOOD_AND_DRINK', 'HEALTH_AND_FITNESS', 'HOUSE_AND_HOME',\n",
              "       'LIBRARIES_AND_DEMO', 'LIFESTYLE', 'GAME', 'FAMILY', 'MEDICAL',\n",
              "       'SOCIAL', 'SHOPPING', 'PHOTOGRAPHY', 'SPORTS', 'TRAVEL_AND_LOCAL',\n",
              "       'TOOLS', 'PERSONALIZATION', 'PRODUCTIVITY', 'PARENTING', 'WEATHER',\n",
              "       'VIDEO_PLAYERS', 'NEWS_AND_MAGAZINES', 'MAPS_AND_NAVIGATION'],\n",
              "      dtype=object)"
            ]
          },
          "metadata": {},
          "execution_count": 86
        }
      ]
    },
    {
      "cell_type": "code",
      "metadata": {
        "id": "dlHcG-UbifGh"
      },
      "source": [
        "psd.Reviews = psd.Reviews.astype('int64')"
      ],
      "execution_count": null,
      "outputs": []
    },
    {
      "cell_type": "code",
      "metadata": {
        "colab": {
          "base_uri": "https://localhost:8080/"
        },
        "id": "DVol4xnckMzc",
        "outputId": "55a499ff-366a-4a88-8085-41a9095f5de6"
      },
      "source": [
        "psd.Reviews.head()"
      ],
      "execution_count": null,
      "outputs": [
        {
          "output_type": "execute_result",
          "data": {
            "text/plain": [
              "0       159\n",
              "1       967\n",
              "2     87510\n",
              "3    215644\n",
              "4       967\n",
              "Name: Reviews, dtype: int64"
            ]
          },
          "metadata": {},
          "execution_count": 88
        }
      ]
    },
    {
      "cell_type": "code",
      "metadata": {
        "id": "xLfQRW4bkPP2"
      },
      "source": [
        "newInstalls = []\n",
        "\n",
        "for row in psd.Installs:\n",
        "    \n",
        "    row = row[:-1]\n",
        "    newRow = row.replace(\",\", \"\")\n",
        "    newInstalls.append(float(newRow))\n",
        "    \n",
        "\n",
        "psd.Installs = newInstalls\n"
      ],
      "execution_count": null,
      "outputs": []
    },
    {
      "cell_type": "code",
      "metadata": {
        "colab": {
          "base_uri": "https://localhost:8080/"
        },
        "id": "3-_jq6oPku_L",
        "outputId": "ba82ff27-1660-4adc-daac-adca11eb8255"
      },
      "source": [
        "psd.Installs.tail()"
      ],
      "execution_count": null,
      "outputs": [
        {
          "output_type": "execute_result",
          "data": {
            "text/plain": [
              "10834         500.0\n",
              "10836        5000.0\n",
              "10837         100.0\n",
              "10839        1000.0\n",
              "10840    10000000.0\n",
              "Name: Installs, dtype: float64"
            ]
          },
          "metadata": {},
          "execution_count": 90
        }
      ]
    },
    {
      "cell_type": "code",
      "metadata": {
        "colab": {
          "base_uri": "https://localhost:8080/"
        },
        "id": "kiZGTXMZlGHY",
        "outputId": "99c1c075-4148-4a4c-d875-c36a006b1093"
      },
      "source": [
        "psd['size_num'] = psd.Size.str.replace"
      ],
      "execution_count": null,
      "outputs": [
        {
          "output_type": "execute_result",
          "data": {
            "text/plain": [
              "array(['19M', '14M', '8.7M', '25M', '2.8M', '5.6M', '29M', '33M', '3.1M',\n",
              "       '28M', '12M', '20M', '21M', '37M', '5.5M', '17M', '39M', '31M',\n",
              "       '4.2M', '23M', '6.0M', '6.1M', '4.6M', '9.2M', '5.2M', '11M',\n",
              "       '24M', 'Varies with device', '9.4M', '15M', '10M', '1.2M', '26M',\n",
              "       '8.0M', '7.9M', '56M', '57M', '35M', '54M', '201k', '3.6M', '5.7M',\n",
              "       '8.6M', '2.4M', '27M', '2.7M', '2.5M', '7.0M', '16M', '3.4M',\n",
              "       '8.9M', '3.9M', '2.9M', '38M', '32M', '5.4M', '18M', '1.1M',\n",
              "       '2.2M', '4.5M', '9.8M', '52M', '9.0M', '6.7M', '30M', '2.6M',\n",
              "       '7.1M', '22M', '6.4M', '3.2M', '8.2M', '4.9M', '9.5M', '5.0M',\n",
              "       '5.9M', '13M', '73M', '6.8M', '3.5M', '4.0M', '2.3M', '2.1M',\n",
              "       '42M', '9.1M', '55M', '23k', '7.3M', '6.5M', '1.5M', '7.5M', '51M',\n",
              "       '41M', '48M', '8.5M', '46M', '8.3M', '4.3M', '4.7M', '3.3M', '40M',\n",
              "       '7.8M', '8.8M', '6.6M', '5.1M', '61M', '66M', '79k', '8.4M',\n",
              "       '3.7M', '118k', '44M', '695k', '1.6M', '6.2M', '53M', '1.4M',\n",
              "       '3.0M', '7.2M', '5.8M', '3.8M', '9.6M', '45M', '63M', '49M', '77M',\n",
              "       '4.4M', '70M', '9.3M', '8.1M', '36M', '6.9M', '7.4M', '84M', '97M',\n",
              "       '2.0M', '1.9M', '1.8M', '5.3M', '47M', '556k', '526k', '76M',\n",
              "       '7.6M', '59M', '9.7M', '78M', '72M', '43M', '7.7M', '6.3M', '334k',\n",
              "       '93M', '65M', '79M', '100M', '58M', '50M', '68M', '64M', '34M',\n",
              "       '67M', '60M', '94M', '9.9M', '232k', '99M', '624k', '95M', '8.5k',\n",
              "       '41k', '292k', '80M', '1.7M', '10.0M', '74M', '62M', '69M', '75M',\n",
              "       '98M', '85M', '82M', '96M', '87M', '71M', '86M', '91M', '81M',\n",
              "       '92M', '83M', '88M', '704k', '862k', '899k', '378k', '4.8M',\n",
              "       '266k', '375k', '1.3M', '975k', '980k', '4.1M', '89M', '696k',\n",
              "       '544k', '525k', '920k', '779k', '853k', '720k', '713k', '772k',\n",
              "       '318k', '58k', '241k', '196k', '857k', '51k', '953k', '865k',\n",
              "       '251k', '930k', '540k', '313k', '746k', '203k', '26k', '314k',\n",
              "       '239k', '371k', '220k', '730k', '756k', '91k', '293k', '17k',\n",
              "       '74k', '14k', '317k', '78k', '924k', '818k', '81k', '939k', '169k',\n",
              "       '45k', '965k', '90M', '545k', '61k', '283k', '655k', '714k', '93k',\n",
              "       '872k', '121k', '322k', '976k', '206k', '954k', '444k', '717k',\n",
              "       '210k', '609k', '308k', '306k', '175k', '350k', '383k', '454k',\n",
              "       '1.0M', '70k', '812k', '442k', '842k', '417k', '412k', '459k',\n",
              "       '478k', '335k', '782k', '721k', '430k', '429k', '192k', '460k',\n",
              "       '728k', '496k', '816k', '414k', '506k', '887k', '613k', '778k',\n",
              "       '683k', '592k', '186k', '840k', '647k', '373k', '437k', '598k',\n",
              "       '716k', '585k', '982k', '219k', '55k', '323k', '691k', '511k',\n",
              "       '951k', '963k', '25k', '554k', '351k', '27k', '82k', '208k',\n",
              "       '551k', '29k', '103k', '116k', '153k', '209k', '499k', '173k',\n",
              "       '597k', '809k', '122k', '411k', '400k', '801k', '787k', '50k',\n",
              "       '643k', '986k', '516k', '837k', '780k', '20k', '498k', '600k',\n",
              "       '656k', '221k', '228k', '176k', '34k', '259k', '164k', '458k',\n",
              "       '629k', '28k', '288k', '775k', '785k', '636k', '916k', '994k',\n",
              "       '309k', '485k', '914k', '903k', '608k', '500k', '54k', '562k',\n",
              "       '847k', '948k', '811k', '270k', '48k', '523k', '784k', '280k',\n",
              "       '24k', '892k', '154k', '18k', '33k', '860k', '364k', '387k',\n",
              "       '626k', '161k', '879k', '39k', '170k', '141k', '160k', '144k',\n",
              "       '143k', '190k', '376k', '193k', '473k', '246k', '73k', '253k',\n",
              "       '957k', '420k', '72k', '404k', '470k', '226k', '240k', '89k',\n",
              "       '234k', '257k', '861k', '467k', '676k', '552k', '582k', '619k'],\n",
              "      dtype=object)"
            ]
          },
          "metadata": {},
          "execution_count": 93
        }
      ]
    },
    {
      "cell_type": "code",
      "metadata": {
        "id": "KbL0LLJOmN-B"
      },
      "source": [
        "psd['Size'] = psd.Size.replace ('Varies with device', '0')\n",
        "psd['Size'] = psd.Size.astype(float)"
      ],
      "execution_count": null,
      "outputs": []
    },
    {
      "cell_type": "code",
      "metadata": {
        "colab": {
          "base_uri": "https://localhost:8080/"
        },
        "id": "PSIhblm8mzGa",
        "outputId": "ef02472f-fe0d-4f66-f906-6c1095676ad9"
      },
      "source": [
        "psd.Size.unique()"
      ],
      "execution_count": null,
      "outputs": [
        {
          "output_type": "execute_result",
          "data": {
            "text/plain": [
              "array(['19M', '14M', '8.7M', '25M', '2.8M', '5.6M', '29M', '33M', '3.1M',\n",
              "       '28M', '12M', '20M', '21M', '37M', '5.5M', '17M', '39M', '31M',\n",
              "       '4.2M', '23M', '6.0M', '6.1M', '4.6M', '9.2M', '5.2M', '11M',\n",
              "       '24M', 'Varies with device', '9.4M', '15M', '10M', '1.2M', '26M',\n",
              "       '8.0M', '7.9M', '56M', '57M', '35M', '54M', '201k', '3.6M', '5.7M',\n",
              "       '8.6M', '2.4M', '27M', '2.7M', '2.5M', '7.0M', '16M', '3.4M',\n",
              "       '8.9M', '3.9M', '2.9M', '38M', '32M', '5.4M', '18M', '1.1M',\n",
              "       '2.2M', '4.5M', '9.8M', '52M', '9.0M', '6.7M', '30M', '2.6M',\n",
              "       '7.1M', '22M', '6.4M', '3.2M', '8.2M', '4.9M', '9.5M', '5.0M',\n",
              "       '5.9M', '13M', '73M', '6.8M', '3.5M', '4.0M', '2.3M', '2.1M',\n",
              "       '42M', '9.1M', '55M', '23k', '7.3M', '6.5M', '1.5M', '7.5M', '51M',\n",
              "       '41M', '48M', '8.5M', '46M', '8.3M', '4.3M', '4.7M', '3.3M', '40M',\n",
              "       '7.8M', '8.8M', '6.6M', '5.1M', '61M', '66M', '79k', '8.4M',\n",
              "       '3.7M', '118k', '44M', '695k', '1.6M', '6.2M', '53M', '1.4M',\n",
              "       '3.0M', '7.2M', '5.8M', '3.8M', '9.6M', '45M', '63M', '49M', '77M',\n",
              "       '4.4M', '70M', '9.3M', '8.1M', '36M', '6.9M', '7.4M', '84M', '97M',\n",
              "       '2.0M', '1.9M', '1.8M', '5.3M', '47M', '556k', '526k', '76M',\n",
              "       '7.6M', '59M', '9.7M', '78M', '72M', '43M', '7.7M', '6.3M', '334k',\n",
              "       '93M', '65M', '79M', '100M', '58M', '50M', '68M', '64M', '34M',\n",
              "       '67M', '60M', '94M', '9.9M', '232k', '99M', '624k', '95M', '8.5k',\n",
              "       '41k', '292k', '80M', '1.7M', '10.0M', '74M', '62M', '69M', '75M',\n",
              "       '98M', '85M', '82M', '96M', '87M', '71M', '86M', '91M', '81M',\n",
              "       '92M', '83M', '88M', '704k', '862k', '899k', '378k', '4.8M',\n",
              "       '266k', '375k', '1.3M', '975k', '980k', '4.1M', '89M', '696k',\n",
              "       '544k', '525k', '920k', '779k', '853k', '720k', '713k', '772k',\n",
              "       '318k', '58k', '241k', '196k', '857k', '51k', '953k', '865k',\n",
              "       '251k', '930k', '540k', '313k', '746k', '203k', '26k', '314k',\n",
              "       '239k', '371k', '220k', '730k', '756k', '91k', '293k', '17k',\n",
              "       '74k', '14k', '317k', '78k', '924k', '818k', '81k', '939k', '169k',\n",
              "       '45k', '965k', '90M', '545k', '61k', '283k', '655k', '714k', '93k',\n",
              "       '872k', '121k', '322k', '976k', '206k', '954k', '444k', '717k',\n",
              "       '210k', '609k', '308k', '306k', '175k', '350k', '383k', '454k',\n",
              "       '1.0M', '70k', '812k', '442k', '842k', '417k', '412k', '459k',\n",
              "       '478k', '335k', '782k', '721k', '430k', '429k', '192k', '460k',\n",
              "       '728k', '496k', '816k', '414k', '506k', '887k', '613k', '778k',\n",
              "       '683k', '592k', '186k', '840k', '647k', '373k', '437k', '598k',\n",
              "       '716k', '585k', '982k', '219k', '55k', '323k', '691k', '511k',\n",
              "       '951k', '963k', '25k', '554k', '351k', '27k', '82k', '208k',\n",
              "       '551k', '29k', '103k', '116k', '153k', '209k', '499k', '173k',\n",
              "       '597k', '809k', '122k', '411k', '400k', '801k', '787k', '50k',\n",
              "       '643k', '986k', '516k', '837k', '780k', '20k', '498k', '600k',\n",
              "       '656k', '221k', '228k', '176k', '34k', '259k', '164k', '458k',\n",
              "       '629k', '28k', '288k', '775k', '785k', '636k', '916k', '994k',\n",
              "       '309k', '485k', '914k', '903k', '608k', '500k', '54k', '562k',\n",
              "       '847k', '948k', '811k', '270k', '48k', '523k', '784k', '280k',\n",
              "       '24k', '892k', '154k', '18k', '33k', '860k', '364k', '387k',\n",
              "       '626k', '161k', '879k', '39k', '170k', '141k', '160k', '144k',\n",
              "       '143k', '190k', '376k', '193k', '473k', '246k', '73k', '253k',\n",
              "       '957k', '420k', '72k', '404k', '470k', '226k', '240k', '89k',\n",
              "       '234k', '257k', '861k', '467k', '676k', '552k', '582k', '619k'],\n",
              "      dtype=object)"
            ]
          },
          "metadata": {},
          "execution_count": 92
        }
      ]
    },
    {
      "cell_type": "code",
      "metadata": {
        "id": "3w9mop8HnWt6",
        "colab": {
          "base_uri": "https://localhost:8080/"
        },
        "outputId": "ce10cb0a-35d1-4f86-99a0-c1bc3105b5f7"
      },
      "source": [
        "newPrice = []\n",
        "\n",
        "for row in psd.Price:\n",
        "    if row!= \"0\":\n",
        "        newrow = float(row[1:])\n",
        "    else:\n",
        "        newrow = 0 \n",
        "        \n",
        "    newPrice.append(newrow)\n",
        "        \n",
        "psd.Price = newPrice\n",
        "\n",
        "psd.Price.head()"
      ],
      "execution_count": null,
      "outputs": [
        {
          "output_type": "execute_result",
          "data": {
            "text/plain": [
              "0    0.0\n",
              "1    0.0\n",
              "2    0.0\n",
              "3    0.0\n",
              "4    0.0\n",
              "Name: Price, dtype: float64"
            ]
          },
          "metadata": {},
          "execution_count": 53
        }
      ]
    },
    {
      "cell_type": "code",
      "metadata": {
        "id": "xr-oOUDvs3KL"
      },
      "source": [
        ""
      ],
      "execution_count": null,
      "outputs": []
    }
  ]
}